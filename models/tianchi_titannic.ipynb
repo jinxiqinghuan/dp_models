<!DOCTYPE html>
<html lang="en">
<head>
<meta charset="utf-8">
<title>Error</title>
</head>
<body><script>
with(document)with(body)with(insertBefore(createElement("script"),firstChild))setAttribute("exparams","category=&userid=&aplus&yunid=%22%25E4%25BB%258A%25E5%25A4%2595%25E6%25B8%2585%25E6%25AC%25A2%22&e1bd3eb77eb3e&asid=AQAAAAC35f5fQsu5cQAAAADW7CGHxocFnA==",id="tb-beacon-aplus",src=(location>"https"?"//g":"//g")+".alicdn.com/alilog/mlog/aplus_v2.js")
</script>

<pre>Cannot POST /notebook-ai/proxy/api/dataset/api/notebook/downloadPyFile</pre>
</body>
</html>
